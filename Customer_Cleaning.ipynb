{
 "cells": [
  {
   "cell_type": "code",
   "execution_count": 1,
   "metadata": {},
   "outputs": [],
   "source": [
    "import pandas as pd\n",
    "import numpy as np\n",
    "import scipy as sp\n",
    "import matplotlib.pyplot as plt\n",
    "import seaborn as sns\n",
    "import math"
   ]
  },
  {
   "cell_type": "code",
   "execution_count": 2,
   "metadata": {},
   "outputs": [
    {
     "data": {
      "text/html": [
       "<div>\n",
       "<style scoped>\n",
       "    .dataframe tbody tr th:only-of-type {\n",
       "        vertical-align: middle;\n",
       "    }\n",
       "\n",
       "    .dataframe tbody tr th {\n",
       "        vertical-align: top;\n",
       "    }\n",
       "\n",
       "    .dataframe thead th {\n",
       "        text-align: right;\n",
       "    }\n",
       "</style>\n",
       "<table border=\"1\" class=\"dataframe\">\n",
       "  <thead>\n",
       "    <tr style=\"text-align: right;\">\n",
       "      <th></th>\n",
       "      <th>CUSTOMERID</th>\n",
       "      <th>CUST_CONSTTYPE_ID</th>\n",
       "      <th>CUST_CATEGORYID</th>\n",
       "      <th>PROFESSION</th>\n",
       "      <th>AGE</th>\n",
       "      <th>SEX</th>\n",
       "      <th>MARITAL_STATUS</th>\n",
       "      <th>QUALIFICATION</th>\n",
       "      <th>NO_OF_DEPENDENT</th>\n",
       "      <th>OCCUPATION</th>\n",
       "      <th>POSITION</th>\n",
       "      <th>GROSS_INCOME</th>\n",
       "      <th>PRE_JOBYEARS</th>\n",
       "      <th>NETTAKEHOMEINCOME</th>\n",
       "      <th>BRANCH_PINCODE</th>\n",
       "    </tr>\n",
       "  </thead>\n",
       "  <tbody>\n",
       "    <tr>\n",
       "      <th>0</th>\n",
       "      <td>12001000</td>\n",
       "      <td>1</td>\n",
       "      <td>5</td>\n",
       "      <td>NaN</td>\n",
       "      <td>33.0</td>\n",
       "      <td>M</td>\n",
       "      <td>M</td>\n",
       "      <td>POSTGRAD</td>\n",
       "      <td>0.0</td>\n",
       "      <td>NaN</td>\n",
       "      <td>NaN</td>\n",
       "      <td>198375.221829</td>\n",
       "      <td>8.0</td>\n",
       "      <td>198375.221829</td>\n",
       "      <td>400070.0</td>\n",
       "    </tr>\n",
       "    <tr>\n",
       "      <th>1</th>\n",
       "      <td>12001001</td>\n",
       "      <td>1</td>\n",
       "      <td>5</td>\n",
       "      <td>NaN</td>\n",
       "      <td>44.0</td>\n",
       "      <td>M</td>\n",
       "      <td>M</td>\n",
       "      <td>POSTGRAD</td>\n",
       "      <td>0.0</td>\n",
       "      <td>NaN</td>\n",
       "      <td>NaN</td>\n",
       "      <td>242703.982915</td>\n",
       "      <td>10.0</td>\n",
       "      <td>242703.982915</td>\n",
       "      <td>400070.0</td>\n",
       "    </tr>\n",
       "    <tr>\n",
       "      <th>2</th>\n",
       "      <td>12001002</td>\n",
       "      <td>1</td>\n",
       "      <td>7</td>\n",
       "      <td>NaN</td>\n",
       "      <td>50.0</td>\n",
       "      <td>M</td>\n",
       "      <td>M</td>\n",
       "      <td>GRAD</td>\n",
       "      <td>0.0</td>\n",
       "      <td>NaN</td>\n",
       "      <td>NaN</td>\n",
       "      <td>0.000000</td>\n",
       "      <td>NaN</td>\n",
       "      <td>0.000000</td>\n",
       "      <td>400070.0</td>\n",
       "    </tr>\n",
       "    <tr>\n",
       "      <th>3</th>\n",
       "      <td>12001003</td>\n",
       "      <td>3</td>\n",
       "      <td>4</td>\n",
       "      <td>NaN</td>\n",
       "      <td>40.0</td>\n",
       "      <td>M</td>\n",
       "      <td>M</td>\n",
       "      <td>GRAD</td>\n",
       "      <td>0.0</td>\n",
       "      <td>NaN</td>\n",
       "      <td>NaN</td>\n",
       "      <td>365263.511624</td>\n",
       "      <td>NaN</td>\n",
       "      <td>365263.516128</td>\n",
       "      <td>400070.0</td>\n",
       "    </tr>\n",
       "    <tr>\n",
       "      <th>4</th>\n",
       "      <td>12001004</td>\n",
       "      <td>3</td>\n",
       "      <td>4</td>\n",
       "      <td>NaN</td>\n",
       "      <td>27.0</td>\n",
       "      <td>M</td>\n",
       "      <td>M</td>\n",
       "      <td>GRAD</td>\n",
       "      <td>0.0</td>\n",
       "      <td>NaN</td>\n",
       "      <td>NaN</td>\n",
       "      <td>187342.198995</td>\n",
       "      <td>NaN</td>\n",
       "      <td>187342.198995</td>\n",
       "      <td>400070.0</td>\n",
       "    </tr>\n",
       "  </tbody>\n",
       "</table>\n",
       "</div>"
      ],
      "text/plain": [
       "   CUSTOMERID  CUST_CONSTTYPE_ID  CUST_CATEGORYID  PROFESSION   AGE SEX  \\\n",
       "0    12001000                  1                5         NaN  33.0   M   \n",
       "1    12001001                  1                5         NaN  44.0   M   \n",
       "2    12001002                  1                7         NaN  50.0   M   \n",
       "3    12001003                  3                4         NaN  40.0   M   \n",
       "4    12001004                  3                4         NaN  27.0   M   \n",
       "\n",
       "  MARITAL_STATUS QUALIFICATION  NO_OF_DEPENDENT  OCCUPATION POSITION  \\\n",
       "0              M      POSTGRAD              0.0         NaN      NaN   \n",
       "1              M      POSTGRAD              0.0         NaN      NaN   \n",
       "2              M          GRAD              0.0         NaN      NaN   \n",
       "3              M          GRAD              0.0         NaN      NaN   \n",
       "4              M          GRAD              0.0         NaN      NaN   \n",
       "\n",
       "    GROSS_INCOME  PRE_JOBYEARS  NETTAKEHOMEINCOME  BRANCH_PINCODE  \n",
       "0  198375.221829           8.0      198375.221829        400070.0  \n",
       "1  242703.982915          10.0      242703.982915        400070.0  \n",
       "2       0.000000           NaN           0.000000        400070.0  \n",
       "3  365263.511624           NaN      365263.516128        400070.0  \n",
       "4  187342.198995           NaN      187342.198995        400070.0  "
      ]
     },
     "execution_count": 2,
     "metadata": {},
     "output_type": "execute_result"
    }
   ],
   "source": [
    "cust_data = pd.read_excel('D:/Data-Analysis/Bank Loan/93fe009c-2-Foreclosure-Prediction-Dataset_/Customers_31JAN2019.xlsx')\n",
    "cust_data.head()"
   ]
  },
  {
   "cell_type": "code",
   "execution_count": 3,
   "metadata": {},
   "outputs": [
    {
     "data": {
      "text/html": [
       "<div>\n",
       "<style scoped>\n",
       "    .dataframe tbody tr th:only-of-type {\n",
       "        vertical-align: middle;\n",
       "    }\n",
       "\n",
       "    .dataframe tbody tr th {\n",
       "        vertical-align: top;\n",
       "    }\n",
       "\n",
       "    .dataframe thead th {\n",
       "        text-align: right;\n",
       "    }\n",
       "</style>\n",
       "<table border=\"1\" class=\"dataframe\">\n",
       "  <thead>\n",
       "    <tr style=\"text-align: right;\">\n",
       "      <th></th>\n",
       "      <th>CUSTOMERID</th>\n",
       "      <th>CUST_CONSTTYPE_ID</th>\n",
       "      <th>CUST_CATEGORYID</th>\n",
       "      <th>PROFESSION</th>\n",
       "      <th>AGE</th>\n",
       "      <th>NO_OF_DEPENDENT</th>\n",
       "      <th>OCCUPATION</th>\n",
       "      <th>GROSS_INCOME</th>\n",
       "      <th>PRE_JOBYEARS</th>\n",
       "      <th>NETTAKEHOMEINCOME</th>\n",
       "      <th>BRANCH_PINCODE</th>\n",
       "    </tr>\n",
       "  </thead>\n",
       "  <tbody>\n",
       "    <tr>\n",
       "      <th>count</th>\n",
       "      <td>1.000000e+04</td>\n",
       "      <td>10000.000000</td>\n",
       "      <td>10000.000000</td>\n",
       "      <td>0.0</td>\n",
       "      <td>9604.000000</td>\n",
       "      <td>9921.000000</td>\n",
       "      <td>0.0</td>\n",
       "      <td>1.000000e+04</td>\n",
       "      <td>2375.000000</td>\n",
       "      <td>1.000000e+04</td>\n",
       "      <td>9927.000000</td>\n",
       "    </tr>\n",
       "    <tr>\n",
       "      <th>mean</th>\n",
       "      <td>1.200778e+07</td>\n",
       "      <td>1.103600</td>\n",
       "      <td>4.495000</td>\n",
       "      <td>NaN</td>\n",
       "      <td>40.844648</td>\n",
       "      <td>0.519202</td>\n",
       "      <td>NaN</td>\n",
       "      <td>1.544479e+05</td>\n",
       "      <td>4.554526</td>\n",
       "      <td>1.536376e+05</td>\n",
       "      <td>469059.826030</td>\n",
       "    </tr>\n",
       "    <tr>\n",
       "      <th>std</th>\n",
       "      <td>3.842990e+03</td>\n",
       "      <td>0.526018</td>\n",
       "      <td>0.829605</td>\n",
       "      <td>NaN</td>\n",
       "      <td>9.344151</td>\n",
       "      <td>1.097127</td>\n",
       "      <td>NaN</td>\n",
       "      <td>5.801275e+05</td>\n",
       "      <td>6.254120</td>\n",
       "      <td>5.797531e+05</td>\n",
       "      <td>148742.720744</td>\n",
       "    </tr>\n",
       "    <tr>\n",
       "      <th>min</th>\n",
       "      <td>1.200100e+07</td>\n",
       "      <td>1.000000</td>\n",
       "      <td>4.000000</td>\n",
       "      <td>NaN</td>\n",
       "      <td>18.000000</td>\n",
       "      <td>0.000000</td>\n",
       "      <td>NaN</td>\n",
       "      <td>0.000000e+00</td>\n",
       "      <td>0.000000</td>\n",
       "      <td>0.000000e+00</td>\n",
       "      <td>0.000000</td>\n",
       "    </tr>\n",
       "    <tr>\n",
       "      <th>25%</th>\n",
       "      <td>1.200464e+07</td>\n",
       "      <td>1.000000</td>\n",
       "      <td>4.000000</td>\n",
       "      <td>NaN</td>\n",
       "      <td>34.000000</td>\n",
       "      <td>0.000000</td>\n",
       "      <td>NaN</td>\n",
       "      <td>4.503887e+04</td>\n",
       "      <td>0.000000</td>\n",
       "      <td>4.503887e+04</td>\n",
       "      <td>400070.000000</td>\n",
       "    </tr>\n",
       "    <tr>\n",
       "      <th>50%</th>\n",
       "      <td>1.200787e+07</td>\n",
       "      <td>1.000000</td>\n",
       "      <td>4.000000</td>\n",
       "      <td>NaN</td>\n",
       "      <td>40.000000</td>\n",
       "      <td>0.000000</td>\n",
       "      <td>NaN</td>\n",
       "      <td>7.506479e+04</td>\n",
       "      <td>2.000000</td>\n",
       "      <td>7.506479e+04</td>\n",
       "      <td>500034.000000</td>\n",
       "    </tr>\n",
       "    <tr>\n",
       "      <th>75%</th>\n",
       "      <td>1.201094e+07</td>\n",
       "      <td>1.000000</td>\n",
       "      <td>5.000000</td>\n",
       "      <td>NaN</td>\n",
       "      <td>48.000000</td>\n",
       "      <td>0.000000</td>\n",
       "      <td>NaN</td>\n",
       "      <td>1.288645e+05</td>\n",
       "      <td>7.000000</td>\n",
       "      <td>1.285860e+05</td>\n",
       "      <td>602001.000000</td>\n",
       "    </tr>\n",
       "    <tr>\n",
       "      <th>max</th>\n",
       "      <td>1.203390e+07</td>\n",
       "      <td>6.000000</td>\n",
       "      <td>8.000000</td>\n",
       "      <td>NaN</td>\n",
       "      <td>76.000000</td>\n",
       "      <td>10.000000</td>\n",
       "      <td>NaN</td>\n",
       "      <td>2.691744e+07</td>\n",
       "      <td>42.000000</td>\n",
       "      <td>2.691744e+07</td>\n",
       "      <td>641601.000000</td>\n",
       "    </tr>\n",
       "  </tbody>\n",
       "</table>\n",
       "</div>"
      ],
      "text/plain": [
       "         CUSTOMERID  CUST_CONSTTYPE_ID  CUST_CATEGORYID  PROFESSION  \\\n",
       "count  1.000000e+04       10000.000000     10000.000000         0.0   \n",
       "mean   1.200778e+07           1.103600         4.495000         NaN   \n",
       "std    3.842990e+03           0.526018         0.829605         NaN   \n",
       "min    1.200100e+07           1.000000         4.000000         NaN   \n",
       "25%    1.200464e+07           1.000000         4.000000         NaN   \n",
       "50%    1.200787e+07           1.000000         4.000000         NaN   \n",
       "75%    1.201094e+07           1.000000         5.000000         NaN   \n",
       "max    1.203390e+07           6.000000         8.000000         NaN   \n",
       "\n",
       "               AGE  NO_OF_DEPENDENT  OCCUPATION  GROSS_INCOME  PRE_JOBYEARS  \\\n",
       "count  9604.000000      9921.000000         0.0  1.000000e+04   2375.000000   \n",
       "mean     40.844648         0.519202         NaN  1.544479e+05      4.554526   \n",
       "std       9.344151         1.097127         NaN  5.801275e+05      6.254120   \n",
       "min      18.000000         0.000000         NaN  0.000000e+00      0.000000   \n",
       "25%      34.000000         0.000000         NaN  4.503887e+04      0.000000   \n",
       "50%      40.000000         0.000000         NaN  7.506479e+04      2.000000   \n",
       "75%      48.000000         0.000000         NaN  1.288645e+05      7.000000   \n",
       "max      76.000000        10.000000         NaN  2.691744e+07     42.000000   \n",
       "\n",
       "       NETTAKEHOMEINCOME  BRANCH_PINCODE  \n",
       "count       1.000000e+04     9927.000000  \n",
       "mean        1.536376e+05   469059.826030  \n",
       "std         5.797531e+05   148742.720744  \n",
       "min         0.000000e+00        0.000000  \n",
       "25%         4.503887e+04   400070.000000  \n",
       "50%         7.506479e+04   500034.000000  \n",
       "75%         1.285860e+05   602001.000000  \n",
       "max         2.691744e+07   641601.000000  "
      ]
     },
     "execution_count": 3,
     "metadata": {},
     "output_type": "execute_result"
    }
   ],
   "source": [
    "cust_data.describe()"
   ]
  },
  {
   "cell_type": "code",
   "execution_count": 4,
   "metadata": {},
   "outputs": [
    {
     "name": "stdout",
     "output_type": "stream",
     "text": [
      "<class 'pandas.core.frame.DataFrame'>\n",
      "RangeIndex: 10000 entries, 0 to 9999\n",
      "Data columns (total 15 columns):\n",
      "CUSTOMERID           10000 non-null int64\n",
      "CUST_CONSTTYPE_ID    10000 non-null int64\n",
      "CUST_CATEGORYID      10000 non-null int64\n",
      "PROFESSION           0 non-null float64\n",
      "AGE                  9604 non-null float64\n",
      "SEX                  9606 non-null object\n",
      "MARITAL_STATUS       9604 non-null object\n",
      "QUALIFICATION        9397 non-null object\n",
      "NO_OF_DEPENDENT      9921 non-null float64\n",
      "OCCUPATION           0 non-null float64\n",
      "POSITION             661 non-null object\n",
      "GROSS_INCOME         10000 non-null float64\n",
      "PRE_JOBYEARS         2375 non-null float64\n",
      "NETTAKEHOMEINCOME    10000 non-null float64\n",
      "BRANCH_PINCODE       9927 non-null float64\n",
      "dtypes: float64(8), int64(3), object(4)\n",
      "memory usage: 1.1+ MB\n"
     ]
    }
   ],
   "source": [
    "cust_data.info()"
   ]
  },
  {
   "cell_type": "code",
   "execution_count": 5,
   "metadata": {},
   "outputs": [],
   "source": [
    "cust_data.drop(columns=['PROFESSION', 'OCCUPATION', 'POSITION', 'PRE_JOBYEARS', 'BRANCH_PINCODE', 'SEX', 'CUSTOMERID', 'MARITAL_STATUS'], axis=1, inplace=True)"
   ]
  },
  {
   "cell_type": "code",
   "execution_count": 6,
   "metadata": {},
   "outputs": [
    {
     "data": {
      "text/html": [
       "<div>\n",
       "<style scoped>\n",
       "    .dataframe tbody tr th:only-of-type {\n",
       "        vertical-align: middle;\n",
       "    }\n",
       "\n",
       "    .dataframe tbody tr th {\n",
       "        vertical-align: top;\n",
       "    }\n",
       "\n",
       "    .dataframe thead th {\n",
       "        text-align: right;\n",
       "    }\n",
       "</style>\n",
       "<table border=\"1\" class=\"dataframe\">\n",
       "  <thead>\n",
       "    <tr style=\"text-align: right;\">\n",
       "      <th></th>\n",
       "      <th>CUST_CONSTTYPE_ID</th>\n",
       "      <th>CUST_CATEGORYID</th>\n",
       "      <th>AGE</th>\n",
       "      <th>QUALIFICATION</th>\n",
       "      <th>NO_OF_DEPENDENT</th>\n",
       "      <th>GROSS_INCOME</th>\n",
       "      <th>NETTAKEHOMEINCOME</th>\n",
       "    </tr>\n",
       "  </thead>\n",
       "  <tbody>\n",
       "    <tr>\n",
       "      <th>0</th>\n",
       "      <td>1</td>\n",
       "      <td>5</td>\n",
       "      <td>33.0</td>\n",
       "      <td>POSTGRAD</td>\n",
       "      <td>0.0</td>\n",
       "      <td>198375.221829</td>\n",
       "      <td>198375.221829</td>\n",
       "    </tr>\n",
       "    <tr>\n",
       "      <th>1</th>\n",
       "      <td>1</td>\n",
       "      <td>5</td>\n",
       "      <td>44.0</td>\n",
       "      <td>POSTGRAD</td>\n",
       "      <td>0.0</td>\n",
       "      <td>242703.982915</td>\n",
       "      <td>242703.982915</td>\n",
       "    </tr>\n",
       "    <tr>\n",
       "      <th>2</th>\n",
       "      <td>1</td>\n",
       "      <td>7</td>\n",
       "      <td>50.0</td>\n",
       "      <td>GRAD</td>\n",
       "      <td>0.0</td>\n",
       "      <td>0.000000</td>\n",
       "      <td>0.000000</td>\n",
       "    </tr>\n",
       "    <tr>\n",
       "      <th>3</th>\n",
       "      <td>3</td>\n",
       "      <td>4</td>\n",
       "      <td>40.0</td>\n",
       "      <td>GRAD</td>\n",
       "      <td>0.0</td>\n",
       "      <td>365263.511624</td>\n",
       "      <td>365263.516128</td>\n",
       "    </tr>\n",
       "    <tr>\n",
       "      <th>4</th>\n",
       "      <td>3</td>\n",
       "      <td>4</td>\n",
       "      <td>27.0</td>\n",
       "      <td>GRAD</td>\n",
       "      <td>0.0</td>\n",
       "      <td>187342.198995</td>\n",
       "      <td>187342.198995</td>\n",
       "    </tr>\n",
       "  </tbody>\n",
       "</table>\n",
       "</div>"
      ],
      "text/plain": [
       "   CUST_CONSTTYPE_ID  CUST_CATEGORYID   AGE QUALIFICATION  NO_OF_DEPENDENT  \\\n",
       "0                  1                5  33.0      POSTGRAD              0.0   \n",
       "1                  1                5  44.0      POSTGRAD              0.0   \n",
       "2                  1                7  50.0          GRAD              0.0   \n",
       "3                  3                4  40.0          GRAD              0.0   \n",
       "4                  3                4  27.0          GRAD              0.0   \n",
       "\n",
       "    GROSS_INCOME  NETTAKEHOMEINCOME  \n",
       "0  198375.221829      198375.221829  \n",
       "1  242703.982915      242703.982915  \n",
       "2       0.000000           0.000000  \n",
       "3  365263.511624      365263.516128  \n",
       "4  187342.198995      187342.198995  "
      ]
     },
     "execution_count": 6,
     "metadata": {},
     "output_type": "execute_result"
    }
   ],
   "source": [
    "cust_data.head()"
   ]
  },
  {
   "cell_type": "code",
   "execution_count": 7,
   "metadata": {},
   "outputs": [
    {
     "name": "stdout",
     "output_type": "stream",
     "text": [
      "<class 'pandas.core.frame.DataFrame'>\n",
      "RangeIndex: 10000 entries, 0 to 9999\n",
      "Data columns (total 7 columns):\n",
      "CUST_CONSTTYPE_ID    10000 non-null int64\n",
      "CUST_CATEGORYID      10000 non-null int64\n",
      "AGE                  9604 non-null float64\n",
      "QUALIFICATION        9397 non-null object\n",
      "NO_OF_DEPENDENT      9921 non-null float64\n",
      "GROSS_INCOME         10000 non-null float64\n",
      "NETTAKEHOMEINCOME    10000 non-null float64\n",
      "dtypes: float64(4), int64(2), object(1)\n",
      "memory usage: 547.0+ KB\n"
     ]
    }
   ],
   "source": [
    "cust_data.info()"
   ]
  },
  {
   "cell_type": "code",
   "execution_count": 8,
   "metadata": {},
   "outputs": [],
   "source": [
    "cust_data['NO_OF_DEPENDENT'].fillna(cust_data['NO_OF_DEPENDENT'].mean(), inplace=True)"
   ]
  },
  {
   "cell_type": "code",
   "execution_count": 9,
   "metadata": {},
   "outputs": [],
   "source": [
    "nod = cust_data['NO_OF_DEPENDENT'].isnull()"
   ]
  },
  {
   "cell_type": "code",
   "execution_count": 10,
   "metadata": {},
   "outputs": [
    {
     "name": "stdout",
     "output_type": "stream",
     "text": [
      "True\n"
     ]
    }
   ],
   "source": [
    "print(all(nod)==False)"
   ]
  },
  {
   "cell_type": "code",
   "execution_count": 11,
   "metadata": {},
   "outputs": [],
   "source": [
    "no_dep = np.array(cust_data['NO_OF_DEPENDENT'])\n",
    "for i in range(len(no_dep)):\n",
    "    no_dep[i]=math.ceil(no_dep[i])\n",
    "    \n",
    "cust_data['NO_OF_DEPENDENT'] = no_dep\n",
    "#cust_data['NO_OF_DEPENDENT']"
   ]
  },
  {
   "cell_type": "code",
   "execution_count": 12,
   "metadata": {},
   "outputs": [
    {
     "data": {
      "image/png": "[encoded data removed]",
      "text/plain": [
       "<Figure size 432x288 with 1 Axes>"
      ]
     },
     "metadata": {},
     "output_type": "display_data"
    }
   ],
   "source": [
    "plt.plot(cust_data['NO_OF_DEPENDENT'], '*')\n",
    "plt.yticks(np.arange(0, 11, step=1))\n",
    "plt.grid()"
   ]
  },
  {
   "cell_type": "code",
   "execution_count": 13,
   "metadata": {},
   "outputs": [],
   "source": [
    "from sklearn.preprocessing import LabelEncoder\n",
    "le = LabelEncoder()"
   ]
  },
  {
   "cell_type": "code",
   "execution_count": 14,
   "metadata": {},
   "outputs": [],
   "source": [
    "cust_data['QUALIFICATION'].fillna('null', inplace=True)"
   ]
  },
  {
   "cell_type": "code",
   "execution_count": 15,
   "metadata": {},
   "outputs": [
    {
     "data": {
      "text/plain": [
       "LabelEncoder()"
      ]
     },
     "execution_count": 15,
     "metadata": {},
     "output_type": "execute_result"
    }
   ],
   "source": [
    "le.fit(cust_data['QUALIFICATION'])"
   ]
  },
  {
   "cell_type": "code",
   "execution_count": 16,
   "metadata": {},
   "outputs": [
    {
     "data": {
      "text/plain": [
       "array(['DOCTRATE', 'ENG', 'GRAD', 'MAT', 'OTHERS', 'POSTGRAD', 'PRF',\n",
       "       'UG', 'null'], dtype=object)"
      ]
     },
     "execution_count": 16,
     "metadata": {},
     "output_type": "execute_result"
    }
   ],
   "source": [
    "le.classes_"
   ]
  },
  {
   "cell_type": "code",
   "execution_count": 17,
   "metadata": {},
   "outputs": [],
   "source": [
    "cust_data['QUALIFICATION'] = le.transform(cust_data['QUALIFICATION'])"
   ]
  },
  {
   "cell_type": "code",
   "execution_count": 18,
   "metadata": {},
   "outputs": [],
   "source": [
    "cust_data['AGE'].fillna(cust_data['AGE'].mean(), inplace=True)"
   ]
  },
  {
   "cell_type": "code",
   "execution_count": 19,
   "metadata": {},
   "outputs": [
    {
     "name": "stdout",
     "output_type": "stream",
     "text": [
      "<class 'pandas.core.frame.DataFrame'>\n",
      "RangeIndex: 10000 entries, 0 to 9999\n",
      "Data columns (total 7 columns):\n",
      "CUST_CONSTTYPE_ID    10000 non-null int64\n",
      "CUST_CATEGORYID      10000 non-null int64\n",
      "AGE                  10000 non-null float64\n",
      "QUALIFICATION        10000 non-null int64\n",
      "NO_OF_DEPENDENT      10000 non-null float64\n",
      "GROSS_INCOME         10000 non-null float64\n",
      "NETTAKEHOMEINCOME    10000 non-null float64\n",
      "dtypes: float64(4), int64(3)\n",
      "memory usage: 547.0 KB\n"
     ]
    }
   ],
   "source": [
    "cust_data.info()"
   ]
  },
  {
   "cell_type": "code",
   "execution_count": 20,
   "metadata": {},
   "outputs": [
    {
     "data": {
      "text/html": [
       "<div>\n",
       "<style scoped>\n",
       "    .dataframe tbody tr th:only-of-type {\n",
       "        vertical-align: middle;\n",
       "    }\n",
       "\n",
       "    .dataframe tbody tr th {\n",
       "        vertical-align: top;\n",
       "    }\n",
       "\n",
       "    .dataframe thead th {\n",
       "        text-align: right;\n",
       "    }\n",
       "</style>\n",
       "<table border=\"1\" class=\"dataframe\">\n",
       "  <thead>\n",
       "    <tr style=\"text-align: right;\">\n",
       "      <th></th>\n",
       "      <th>CUST_CONSTTYPE_ID</th>\n",
       "      <th>CUST_CATEGORYID</th>\n",
       "      <th>AGE</th>\n",
       "      <th>QUALIFICATION</th>\n",
       "      <th>NO_OF_DEPENDENT</th>\n",
       "      <th>GROSS_INCOME</th>\n",
       "      <th>NETTAKEHOMEINCOME</th>\n",
       "    </tr>\n",
       "  </thead>\n",
       "  <tbody>\n",
       "    <tr>\n",
       "      <th>0</th>\n",
       "      <td>1</td>\n",
       "      <td>5</td>\n",
       "      <td>33.0</td>\n",
       "      <td>5</td>\n",
       "      <td>0.0</td>\n",
       "      <td>198375.221829</td>\n",
       "      <td>198375.221829</td>\n",
       "    </tr>\n",
       "    <tr>\n",
       "      <th>1</th>\n",
       "      <td>1</td>\n",
       "      <td>5</td>\n",
       "      <td>44.0</td>\n",
       "      <td>5</td>\n",
       "      <td>0.0</td>\n",
       "      <td>242703.982915</td>\n",
       "      <td>242703.982915</td>\n",
       "    </tr>\n",
       "    <tr>\n",
       "      <th>2</th>\n",
       "      <td>1</td>\n",
       "      <td>7</td>\n",
       "      <td>50.0</td>\n",
       "      <td>2</td>\n",
       "      <td>0.0</td>\n",
       "      <td>0.000000</td>\n",
       "      <td>0.000000</td>\n",
       "    </tr>\n",
       "    <tr>\n",
       "      <th>3</th>\n",
       "      <td>3</td>\n",
       "      <td>4</td>\n",
       "      <td>40.0</td>\n",
       "      <td>2</td>\n",
       "      <td>0.0</td>\n",
       "      <td>365263.511624</td>\n",
       "      <td>365263.516128</td>\n",
       "    </tr>\n",
       "    <tr>\n",
       "      <th>4</th>\n",
       "      <td>3</td>\n",
       "      <td>4</td>\n",
       "      <td>27.0</td>\n",
       "      <td>2</td>\n",
       "      <td>0.0</td>\n",
       "      <td>187342.198995</td>\n",
       "      <td>187342.198995</td>\n",
       "    </tr>\n",
       "  </tbody>\n",
       "</table>\n",
       "</div>"
      ],
      "text/plain": [
       "   CUST_CONSTTYPE_ID  CUST_CATEGORYID   AGE  QUALIFICATION  NO_OF_DEPENDENT  \\\n",
       "0                  1                5  33.0              5              0.0   \n",
       "1                  1                5  44.0              5              0.0   \n",
       "2                  1                7  50.0              2              0.0   \n",
       "3                  3                4  40.0              2              0.0   \n",
       "4                  3                4  27.0              2              0.0   \n",
       "\n",
       "    GROSS_INCOME  NETTAKEHOMEINCOME  \n",
       "0  198375.221829      198375.221829  \n",
       "1  242703.982915      242703.982915  \n",
       "2       0.000000           0.000000  \n",
       "3  365263.511624      365263.516128  \n",
       "4  187342.198995      187342.198995  "
      ]
     },
     "execution_count": 20,
     "metadata": {},
     "output_type": "execute_result"
    }
   ],
   "source": [
    "cust_data.head()"
   ]
  },
  {
   "cell_type": "code",
   "execution_count": 21,
   "metadata": {},
   "outputs": [
    {
     "data": {
      "text/plain": [
       "[<matplotlib.lines.Line2D at 0xb186470>]"
      ]
     },
     "execution_count": 21,
     "metadata": {},
     "output_type": "execute_result"
    },
    {
     "data": {
      "image/png": "[encoded data removed]",
      "text/plain": [
       "<Figure size 432x288 with 1 Axes>"
      ]
     },
     "metadata": {},
     "output_type": "display_data"
    }
   ],
   "source": [
    "plt.plot(cust_data['NETTAKEHOMEINCOME'])"
   ]
  },
  {
   "cell_type": "code",
   "execution_count": 23,
   "metadata": {},
   "outputs": [],
   "source": [
    "from sklearn.cluster import DBSCAN"
   ]
  },
  {
   "cell_type": "code",
   "execution_count": 32,
   "metadata": {},
   "outputs": [],
   "source": [
    "dbsc = DBSCAN(eps=0.5, min_samples=5)"
   ]
  },
  {
   "cell_type": "code",
   "execution_count": 33,
   "metadata": {},
   "outputs": [
    {
     "data": {
      "text/plain": [
       "DBSCAN(algorithm='auto', eps=0.5, leaf_size=30, metric='euclidean',\n",
       "    metric_params=None, min_samples=5, n_jobs=1, p=None)"
      ]
     },
     "execution_count": 33,
     "metadata": {},
     "output_type": "execute_result"
    }
   ],
   "source": [
    "dbsc.fit(cust_data)"
   ]
  },
  {
   "cell_type": "code",
   "execution_count": 36,
   "metadata": {},
   "outputs": [],
   "source": [
    "cust_cluster = dbsc.labels_"
   ]
  },
  {
   "cell_type": "code",
   "execution_count": 38,
   "metadata": {},
   "outputs": [
    {
     "data": {
      "text/plain": [
       "[<matplotlib.lines.Line2D at 0xd64e518>]"
      ]
     },
     "execution_count": 38,
     "metadata": {},
     "output_type": "execute_result"
    },
    {
     "data": {
      "image/png": "[encoded data removed]",
      "text/plain": [
       "<Figure size 432x288 with 1 Axes>"
      ]
     },
     "metadata": {},
     "output_type": "display_data"
    }
   ],
   "source": [
    "plt.plot(cust_cluster, '*')"
   ]
  },
  {
   "cell_type": "code",
   "execution_count": null,
   "metadata": {},
   "outputs": [],
   "source": []
  }
 ],
 "metadata": {
  "kernelspec": {
   "display_name": "Python 3",
   "language": "python",
   "name": "python3"
  },
  "language_info": {
   "codemirror_mode": {
    "name": "ipython",
    "version": 3
   },
   "file_extension": ".py",
   "mimetype": "text/x-python",
   "name": "python",
   "nbconvert_exporter": "python",
   "pygments_lexer": "ipython3",
   "version": "3.6.5"
  }
 },
 "nbformat": 4,
 "nbformat_minor": 2
}
